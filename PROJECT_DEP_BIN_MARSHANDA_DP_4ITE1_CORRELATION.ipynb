{
  "nbformat": 4,
  "nbformat_minor": 0,
  "metadata": {
    "colab": {
      "provenance": [],
      "authorship_tag": "ABX9TyPVhcT6Rx9Hp3VWchIKO4uF",
      "include_colab_link": true
    },
    "kernelspec": {
      "name": "python3",
      "display_name": "Python 3"
    },
    "language_info": {
      "name": "python"
    }
  },
  "cells": [
    {
      "cell_type": "markdown",
      "metadata": {
        "id": "view-in-github",
        "colab_type": "text"
      },
      "source": [
        "<a href=\"https://colab.research.google.com/github/marshaadp/DEP-BIN-PROJECT/blob/main/PROJECT_DEP_BIN_MARSHANDA_DP_4ITE1_CORRELATION.ipynb\" target=\"_parent\"><img src=\"https://colab.research.google.com/assets/colab-badge.svg\" alt=\"Open In Colab\"/></a>"
      ]
    },
    {
      "cell_type": "markdown",
      "source": [
        "# **1. CORRELATION**"
      ],
      "metadata": {
        "id": "YUwdfI2tmbJ3"
      }
    },
    {
      "cell_type": "markdown",
      "source": [
        "Tujuan :\n",
        "1. Mengetahui apakah ada hubungan yang kuat antara nilai akhir (G1, G2, G3) dengan kelompok data variabel independen\n",
        "\n",
        "2. Mengetahui kelompok data variabel independen mana yang paling besar nilai korelasinya terhadap nilai akhir (G1, G2, G3)"
      ],
      "metadata": {
        "id": "zJ3-bqinCyvD"
      }
    },
    {
      "cell_type": "markdown",
      "source": [
        "## **IMPORT LIBRARY**"
      ],
      "metadata": {
        "id": "O8rbdywQMyqt"
      }
    },
    {
      "cell_type": "code",
      "source": [
        "import pandas as pd\n",
        "import numpy as np\n",
        "import matplotlib.pyplot as plt\n",
        "from sklearn.preprocessing import MinMaxScaler\n",
        "from sklearn.neighbors import KNeighborsClassifier\n",
        "from sklearn.linear_model import LinearRegression\n",
        "from sklearn.metrics import confusion_matrix, mean_absolute_error"
      ],
      "metadata": {
        "id": "T5EdiCXzM0vN"
      },
      "execution_count": null,
      "outputs": []
    },
    {
      "cell_type": "markdown",
      "source": [
        "## **LOAD DATA**"
      ],
      "metadata": {
        "id": "nUisbPc3M3HB"
      }
    },
    {
      "cell_type": "code",
      "source": [
        "df = pd.read_csv('mat2.csv')"
      ],
      "metadata": {
        "id": "_w3SWx25M4cI"
      },
      "execution_count": null,
      "outputs": []
    },
    {
      "cell_type": "markdown",
      "source": [
        "COLLECTING DATA"
      ],
      "metadata": {
        "id": "RtermsUyNJmI"
      }
    },
    {
      "cell_type": "code",
      "source": [
        "print(df.head())  # show the first few rows of the data"
      ],
      "metadata": {
        "colab": {
          "base_uri": "https://localhost:8080/"
        },
        "id": "mApABoH4NMHT",
        "outputId": "116f68a2-80b4-47db-d8fc-3a4b00678645"
      },
      "execution_count": null,
      "outputs": [
        {
          "output_type": "stream",
          "name": "stdout",
          "text": [
            "   Unnamed: 0 school sex  age address famsize Pstatus  Medu  Fedu     Mjob  \\\n",
            "0           0     GP   F   18       U     GT3       A     4     4  at_home   \n",
            "1           1     GP   F   17       U     GT3       T     1     1  at_home   \n",
            "2           2     GP   F   15       U     LE3       T     1     1  at_home   \n",
            "3           3     GP   F   15       U     GT3       T     4     2   health   \n",
            "4           4     GP   F   16       U     GT3       T     3     3    other   \n",
            "\n",
            "   ... famrel freetime goout  Dalc  Walc  health absences  G1  G2  G3  \n",
            "0  ...      4        3     4     1     1       3        6   5   6   6  \n",
            "1  ...      5        3     3     1     1       3        4   5   5   6  \n",
            "2  ...      4        3     2     2     3       3       10   7   8  10  \n",
            "3  ...      3        2     2     1     1       5        2  15  14  15  \n",
            "4  ...      4        3     2     1     2       5        4   6  10  10  \n",
            "\n",
            "[5 rows x 34 columns]\n"
          ]
        }
      ]
    },
    {
      "cell_type": "markdown",
      "source": [
        "Visualizing distribution of data"
      ],
      "metadata": {
        "id": "aoYk-X3cNRDY"
      }
    },
    {
      "cell_type": "markdown",
      "source": [
        "KELOMPOK DATA KEUANGAN"
      ],
      "metadata": {
        "id": "2HxvGqprOwY_"
      }
    },
    {
      "cell_type": "code",
      "source": [
        "plt.figure(figsize=(10, 6))\n",
        "df.boxplot()\n",
        "plt.title('Boxplot of Data Distribution')\n",
        "plt.show()"
      ],
      "metadata": {
        "colab": {
          "base_uri": "https://localhost:8080/",
          "height": 481
        },
        "id": "N_5lxQ3bNTMR",
        "outputId": "301b6c96-8c93-466a-cac0-e97630623fde"
      },
      "execution_count": null,
      "outputs": [
        {
          "output_type": "display_data",
          "data": {
            "text/plain": [
              "<Figure size 1000x600 with 1 Axes>"
            ],
            "image/png": "[encoded data removed]"
          },
          "metadata": {}
        }
      ]
    },
    {
      "cell_type": "markdown",
      "source": [
        "PENGECEKAN DATA KOSONG"
      ],
      "metadata": {
        "id": "L_5InLt5Pbnb"
      }
    },
    {
      "cell_type": "code",
      "source": [
        "print(df.eq(0).sum())"
      ],
      "metadata": {
        "colab": {
          "base_uri": "https://localhost:8080/"
        },
        "id": "TfeNewgEPe9y",
        "outputId": "f4c842ee-1093-48e2-fec2-79b1122fabce"
      },
      "execution_count": null,
      "outputs": [
        {
          "output_type": "stream",
          "name": "stdout",
          "text": [
            "Unnamed: 0      1\n",
            "school          0\n",
            "sex             0\n",
            "age             0\n",
            "address         0\n",
            "famsize         0\n",
            "Pstatus         0\n",
            "Medu            3\n",
            "Fedu            2\n",
            "Mjob            0\n",
            "Fjob            0\n",
            "reason          0\n",
            "guardian        0\n",
            "traveltime      0\n",
            "studytime       0\n",
            "failures      312\n",
            "schoolsup       0\n",
            "famsup          0\n",
            "paid            0\n",
            "activities      0\n",
            "nursery         0\n",
            "higher          0\n",
            "internet        0\n",
            "romantic        0\n",
            "famrel          0\n",
            "freetime        0\n",
            "goout           0\n",
            "Dalc            0\n",
            "Walc            0\n",
            "health          0\n",
            "absences      115\n",
            "G1              0\n",
            "G2             13\n",
            "G3             38\n",
            "dtype: int64\n"
          ]
        }
      ]
    },
    {
      "cell_type": "markdown",
      "source": [
        " Reading and checking the structure of the data"
      ],
      "metadata": {
        "id": "6DFjL4SEPpXq"
      }
    },
    {
      "cell_type": "code",
      "source": [
        "print(df.info())  # show the data types of each column\n",
        "print(df.describe())  # show summary statistics of the data\n"
      ],
      "metadata": {
        "colab": {
          "base_uri": "https://localhost:8080/"
        },
        "id": "11ERGnL2PruJ",
        "outputId": "fe6fe5ae-184e-4f8f-a3dd-fc0fcc982eb5"
      },
      "execution_count": null,
      "outputs": [
        {
          "output_type": "stream",
          "name": "stdout",
          "text": [
            "<class 'pandas.core.frame.DataFrame'>\n",
            "RangeIndex: 395 entries, 0 to 394\n",
            "Data columns (total 34 columns):\n",
            " #   Column      Non-Null Count  Dtype \n",
            "---  ------      --------------  ----- \n",
            " 0   Unnamed: 0  395 non-null    int64 \n",
            " 1   school      395 non-null    object\n",
            " 2   sex         395 non-null    object\n",
            " 3   age         395 non-null    int64 \n",
            " 4   address     395 non-null    object\n",
            " 5   famsize     395 non-null    object\n",
            " 6   Pstatus     395 non-null    object\n",
            " 7   Medu        395 non-null    int64 \n",
            " 8   Fedu        395 non-null    int64 \n",
            " 9   Mjob        395 non-null    object\n",
            " 10  Fjob        395 non-null    object\n",
            " 11  reason      395 non-null    object\n",
            " 12  guardian    395 non-null    object\n",
            " 13  traveltime  395 non-null    int64 \n",
            " 14  studytime   395 non-null    int64 \n",
            " 15  failures    395 non-null    int64 \n",
            " 16  schoolsup   395 non-null    object\n",
            " 17  famsup      395 non-null    object\n",
            " 18  paid        395 non-null    object\n",
            " 19  activities  395 non-null    object\n",
            " 20  nursery     395 non-null    object\n",
            " 21  higher      395 non-null    object\n",
            " 22  internet    395 non-null    object\n",
            " 23  romantic    395 non-null    object\n",
            " 24  famrel      395 non-null    int64 \n",
            " 25  freetime    395 non-null    int64 \n",
            " 26  goout       395 non-null    int64 \n",
            " 27  Dalc        395 non-null    int64 \n",
            " 28  Walc        395 non-null    int64 \n",
            " 29  health      395 non-null    int64 \n",
            " 30  absences    395 non-null    int64 \n",
            " 31  G1          395 non-null    int64 \n",
            " 32  G2          395 non-null    int64 \n",
            " 33  G3          395 non-null    int64 \n",
            "dtypes: int64(17), object(17)\n",
            "memory usage: 105.0+ KB\n",
            "None\n",
            "       Unnamed: 0         age        Medu        Fedu  traveltime   studytime  \\\n",
            "count  395.000000  395.000000  395.000000  395.000000  395.000000  395.000000   \n",
            "mean   197.000000   16.696203    2.749367    2.521519    1.448101    2.035443   \n",
            "std    114.170924    1.276043    1.094735    1.088201    0.697505    0.839240   \n",
            "min      0.000000   15.000000    0.000000    0.000000    1.000000    1.000000   \n",
            "25%     98.500000   16.000000    2.000000    2.000000    1.000000    1.000000   \n",
            "50%    197.000000   17.000000    3.000000    2.000000    1.000000    2.000000   \n",
            "75%    295.500000   18.000000    4.000000    3.000000    2.000000    2.000000   \n",
            "max    394.000000   22.000000    4.000000    4.000000    4.000000    4.000000   \n",
            "\n",
            "         failures      famrel    freetime       goout        Dalc        Walc  \\\n",
            "count  395.000000  395.000000  395.000000  395.000000  395.000000  395.000000   \n",
            "mean     0.334177    3.944304    3.235443    3.108861    1.481013    2.291139   \n",
            "std      0.743651    0.896659    0.998862    1.113278    0.890741    1.287897   \n",
            "min      0.000000    1.000000    1.000000    1.000000    1.000000    1.000000   \n",
            "25%      0.000000    4.000000    3.000000    2.000000    1.000000    1.000000   \n",
            "50%      0.000000    4.000000    3.000000    3.000000    1.000000    2.000000   \n",
            "75%      0.000000    5.000000    4.000000    4.000000    2.000000    3.000000   \n",
            "max      3.000000    5.000000    5.000000    5.000000    5.000000    5.000000   \n",
            "\n",
            "           health    absences          G1          G2          G3  \n",
            "count  395.000000  395.000000  395.000000  395.000000  395.000000  \n",
            "mean     3.554430    5.708861   10.908861   10.713924   10.415190  \n",
            "std      1.390303    8.003096    3.319195    3.761505    4.581443  \n",
            "min      1.000000    0.000000    3.000000    0.000000    0.000000  \n",
            "25%      3.000000    0.000000    8.000000    9.000000    8.000000  \n",
            "50%      4.000000    4.000000   11.000000   11.000000   11.000000  \n",
            "75%      5.000000    8.000000   13.000000   13.000000   14.000000  \n",
            "max      5.000000   75.000000   19.000000   19.000000   20.000000  \n"
          ]
        }
      ]
    },
    {
      "cell_type": "markdown",
      "source": [
        " Convert categorical variables to numerical variables"
      ],
      "metadata": {
        "id": "NmxkriuiP1GG"
      }
    },
    {
      "cell_type": "code",
      "source": [
        "df['school'] = df['school'].map({'GP': 0, 'MS': 1}).astype(int)\n",
        "df['sex'] = df['sex'].map({'F': 0, 'M': 1}).astype(int)\n",
        "df['address'] = df['address'].map({'U': 0, 'R': 1}).astype(int)\n",
        "df['famsize'] = df['famsize'].map({'LE3': 0, 'GT3': 1}).astype(int)\n",
        "df['Pstatus'] = df['Pstatus'].map({'T': 0, 'A': 1}).astype(int)\n",
        "df['Mjob'] = df['Mjob'].map({'teacher': 0, 'health': 1, 'services': 2, 'at_home': 3, 'other': 4}).astype(int)\n",
        "df['Fjob'] = df['Fjob'].map({'teacher': 0, 'health': 1, 'services': 2, 'at_home': 3, 'other': 4}).astype(int)\n",
        "df['reason'] = df['reason'].map({'home': 0, 'reputation': 1, 'course': 2, 'other': 3}).astype(int)\n",
        "df['guardian'] = df['guardian'].map({'mother': 0, 'father': 1, 'other': 2}).astype(int)\n",
        "df['schoolsup'] = df['schoolsup'].map({'no' : 0, 'yes' : 1}).astype(int)\n",
        "df['famsup'] = df['famsup'].map({'no' : 0, 'yes' : 1}).astype(int)\n",
        "df['paid'] = df['paid'].map({'no' : 0, 'yes' : 1}).astype(int)\n",
        "df['activities'] = df['activities'].map({'no' : 0, 'yes' : 1}).astype(int)\n",
        "df['higher'] = df['higher'].map({'no' : 0, 'yes' : 1}).astype(int)\n",
        "df['internet'] = df['internet'].map({'no' : 0, 'yes' : 1}).astype(int)\n",
        "df['romantic'] = df['romantic'].map({'no' : 0, 'yes' : 1}).astype(int)"
      ],
      "metadata": {
        "id": "VHer2HS1P3Nh"
      },
      "execution_count": null,
      "outputs": []
    },
    {
      "cell_type": "markdown",
      "source": [
        "Grouping data into categories"
      ],
      "metadata": {
        "id": "O1ZPifWIQDcW"
      }
    },
    {
      "cell_type": "code",
      "source": [
        "# Grouping data into categories\n",
        "categories = {\n",
        "    'Keluarga': ['famsize', 'pstatus', 'medu', 'fedu', 'mjob', 'fjob', 'guardian', 'famrel', 'famsup'],\n",
        "    'Keuangan/financial': ['mjob', 'fjob', 'paid', 'schoolsup'],\n",
        "    'health': ['sex', 'age', 'walc', 'dalc'],\n",
        "    'social': ['sex', 'reason', 'activities', 'failures', 'romantic', 'internet', 'freetime', 'goout'],\n",
        "    'waktu': ['address', 'traveltimes', 'studytime', 'activities', 'freetime', 'goout']\n",
        "}\n"
      ],
      "metadata": {
        "id": "PIMWYmbjv9II"
      },
      "execution_count": null,
      "outputs": []
    },
    {
      "cell_type": "code",
      "source": [
        "print(df.info())  # show the data types of each column\n",
        "print(df.describe())  # show summary statistics of the data"
      ],
      "metadata": {
        "colab": {
          "base_uri": "https://localhost:8080/"
        },
        "id": "wkrgBwB0zViU",
        "outputId": "b88ef2c3-2497-4e5e-fa82-7d35789f720b"
      },
      "execution_count": null,
      "outputs": [
        {
          "output_type": "stream",
          "name": "stdout",
          "text": [
            "<class 'pandas.core.frame.DataFrame'>\n",
            "RangeIndex: 395 entries, 0 to 394\n",
            "Data columns (total 34 columns):\n",
            " #   Column      Non-Null Count  Dtype \n",
            "---  ------      --------------  ----- \n",
            " 0   Unnamed: 0  395 non-null    int64 \n",
            " 1   school      395 non-null    int64 \n",
            " 2   sex         395 non-null    int64 \n",
            " 3   age         395 non-null    int64 \n",
            " 4   address     395 non-null    int64 \n",
            " 5   famsize     395 non-null    int64 \n",
            " 6   Pstatus     395 non-null    int64 \n",
            " 7   Medu        395 non-null    int64 \n",
            " 8   Fedu        395 non-null    int64 \n",
            " 9   Mjob        395 non-null    int64 \n",
            " 10  Fjob        395 non-null    int64 \n",
            " 11  reason      395 non-null    int64 \n",
            " 12  guardian    395 non-null    int64 \n",
            " 13  traveltime  395 non-null    int64 \n",
            " 14  studytime   395 non-null    int64 \n",
            " 15  failures    395 non-null    int64 \n",
            " 16  schoolsup   395 non-null    int64 \n",
            " 17  famsup      395 non-null    int64 \n",
            " 18  paid        395 non-null    int64 \n",
            " 19  activities  395 non-null    int64 \n",
            " 20  nursery     395 non-null    object\n",
            " 21  higher      395 non-null    int64 \n",
            " 22  internet    395 non-null    int64 \n",
            " 23  romantic    395 non-null    int64 \n",
            " 24  famrel      395 non-null    int64 \n",
            " 25  freetime    395 non-null    int64 \n",
            " 26  goout       395 non-null    int64 \n",
            " 27  Dalc        395 non-null    int64 \n",
            " 28  Walc        395 non-null    int64 \n",
            " 29  health      395 non-null    int64 \n",
            " 30  absences    395 non-null    int64 \n",
            " 31  G1          395 non-null    int64 \n",
            " 32  G2          395 non-null    int64 \n",
            " 33  G3          395 non-null    int64 \n",
            "dtypes: int64(33), object(1)\n",
            "memory usage: 105.0+ KB\n",
            "None\n",
            "       Unnamed: 0      school         sex         age     address     famsize  \\\n",
            "count  395.000000  395.000000  395.000000  395.000000  395.000000  395.000000   \n",
            "mean   197.000000    0.116456    0.473418   16.696203    0.222785    0.711392   \n",
            "std    114.170924    0.321177    0.499926    1.276043    0.416643    0.453690   \n",
            "min      0.000000    0.000000    0.000000   15.000000    0.000000    0.000000   \n",
            "25%     98.500000    0.000000    0.000000   16.000000    0.000000    0.000000   \n",
            "50%    197.000000    0.000000    0.000000   17.000000    0.000000    1.000000   \n",
            "75%    295.500000    0.000000    1.000000   18.000000    0.000000    1.000000   \n",
            "max    394.000000    1.000000    1.000000   22.000000    1.000000    1.000000   \n",
            "\n",
            "          Pstatus        Medu        Fedu        Mjob  ...      famrel  \\\n",
            "count  395.000000  395.000000  395.000000  395.000000  ...  395.000000   \n",
            "mean     0.103797    2.749367    2.521519    2.483544  ...    3.944304   \n",
            "std      0.305384    1.094735    1.088201    1.421948  ...    0.896659   \n",
            "min      0.000000    0.000000    0.000000    0.000000  ...    1.000000   \n",
            "25%      0.000000    2.000000    2.000000    2.000000  ...    4.000000   \n",
            "50%      0.000000    3.000000    2.000000    3.000000  ...    4.000000   \n",
            "75%      0.000000    4.000000    3.000000    4.000000  ...    5.000000   \n",
            "max      1.000000    4.000000    4.000000    4.000000  ...    5.000000   \n",
            "\n",
            "         freetime       goout        Dalc        Walc      health    absences  \\\n",
            "count  395.000000  395.000000  395.000000  395.000000  395.000000  395.000000   \n",
            "mean     3.235443    3.108861    1.481013    2.291139    3.554430    5.708861   \n",
            "std      0.998862    1.113278    0.890741    1.287897    1.390303    8.003096   \n",
            "min      1.000000    1.000000    1.000000    1.000000    1.000000    0.000000   \n",
            "25%      3.000000    2.000000    1.000000    1.000000    3.000000    0.000000   \n",
            "50%      3.000000    3.000000    1.000000    2.000000    4.000000    4.000000   \n",
            "75%      4.000000    4.000000    2.000000    3.000000    5.000000    8.000000   \n",
            "max      5.000000    5.000000    5.000000    5.000000    5.000000   75.000000   \n",
            "\n",
            "               G1          G2          G3  \n",
            "count  395.000000  395.000000  395.000000  \n",
            "mean    10.908861   10.713924   10.415190  \n",
            "std      3.319195    3.761505    4.581443  \n",
            "min      3.000000    0.000000    0.000000  \n",
            "25%      8.000000    9.000000    8.000000  \n",
            "50%     11.000000   11.000000   11.000000  \n",
            "75%     13.000000   13.000000   14.000000  \n",
            "max     19.000000   19.000000   20.000000  \n",
            "\n",
            "[8 rows x 33 columns]\n"
          ]
        }
      ]
    },
    {
      "cell_type": "markdown",
      "source": [
        "Normalization"
      ],
      "metadata": {
        "id": "Cem1B8UIP-MA"
      }
    },
    {
      "cell_type": "markdown",
      "source": [
        "scaler = MinMaxScaler()\n",
        "df_scaled = scaler.fit_transform(df)"
      ],
      "metadata": {
        "id": "T3FKfXV5zFuk"
      }
    },
    {
      "cell_type": "code",
      "source": [
        "scaler = MinMaxScaler()\n",
        "df[['school','sex','age','address','famsize','Pstatus', 'Medu', 'Fedu','Mjob','Fjob','reason','guardian','traveltime', 'studytime', 'failures', 'schoolsup','famsup', 'paid','activities','higher','internet','romantic','famrel', 'freetime', 'goout','Dalc', 'Walc', 'health', 'absences','G1', 'G2', 'G3']] = scaler.fit_transform(df[['school','sex','age','address','famsize','Pstatus', 'Medu', 'Fedu','Mjob','Fjob','reason','guardian','traveltime', 'studytime', 'failures', 'schoolsup','famsup','paid','activities','higher','internet','romantic','famrel', 'freetime', 'goout', 'Dalc', 'Walc', 'health', 'absences','G1', 'G2', 'G3']])\n",
        "print(df)"
      ],
      "metadata": {
        "colab": {
          "base_uri": "https://localhost:8080/"
        },
        "id": "wEwal8blP_2Z",
        "outputId": "af5f53e4-4909-4c38-badb-c84ae3e9c72e"
      },
      "execution_count": null,
      "outputs": [
        {
          "output_type": "stream",
          "name": "stdout",
          "text": [
            "     Unnamed: 0  school  sex       age  address  famsize  Pstatus  Medu  Fedu  \\\n",
            "0             0     0.0  0.0  0.428571      0.0      1.0      1.0  1.00  1.00   \n",
            "1             1     0.0  0.0  0.285714      0.0      1.0      0.0  0.25  0.25   \n",
            "2             2     0.0  0.0  0.000000      0.0      0.0      0.0  0.25  0.25   \n",
            "3             3     0.0  0.0  0.000000      0.0      1.0      0.0  1.00  0.50   \n",
            "4             4     0.0  0.0  0.142857      0.0      1.0      0.0  0.75  0.75   \n",
            "..          ...     ...  ...       ...      ...      ...      ...   ...   ...   \n",
            "390         390     1.0  1.0  0.714286      0.0      0.0      1.0  0.50  0.50   \n",
            "391         391     1.0  1.0  0.285714      0.0      0.0      0.0  0.75  0.25   \n",
            "392         392     1.0  1.0  0.857143      1.0      1.0      0.0  0.25  0.25   \n",
            "393         393     1.0  1.0  0.428571      1.0      0.0      0.0  0.75  0.50   \n",
            "394         394     1.0  1.0  0.571429      0.0      0.0      0.0  0.25  0.25   \n",
            "\n",
            "     Mjob  ...  famrel  freetime  goout  Dalc  Walc  health  absences      G1  \\\n",
            "0    0.75  ...    0.75      0.50   0.75  0.00  0.00    0.50  0.080000  0.1250   \n",
            "1    0.75  ...    1.00      0.50   0.50  0.00  0.00    0.50  0.053333  0.1250   \n",
            "2    0.75  ...    0.75      0.50   0.25  0.25  0.50    0.50  0.133333  0.2500   \n",
            "3    0.25  ...    0.50      0.25   0.25  0.00  0.00    1.00  0.026667  0.7500   \n",
            "4    1.00  ...    0.75      0.50   0.25  0.00  0.25    1.00  0.053333  0.1875   \n",
            "..    ...  ...     ...       ...    ...   ...   ...     ...       ...     ...   \n",
            "390  0.50  ...    1.00      1.00   0.75  0.75  1.00    0.75  0.146667  0.3750   \n",
            "391  0.50  ...    0.25      0.75   1.00  0.50  0.75    0.25  0.040000  0.6875   \n",
            "392  1.00  ...    1.00      1.00   0.50  0.50  0.50    0.50  0.040000  0.4375   \n",
            "393  0.50  ...    0.75      0.75   0.00  0.50  0.75    1.00  0.000000  0.5000   \n",
            "394  1.00  ...    0.50      0.25   0.50  0.50  0.50    1.00  0.066667  0.3125   \n",
            "\n",
            "           G2    G3  \n",
            "0    0.315789  0.30  \n",
            "1    0.263158  0.30  \n",
            "2    0.421053  0.50  \n",
            "3    0.736842  0.75  \n",
            "4    0.526316  0.50  \n",
            "..        ...   ...  \n",
            "390  0.473684  0.45  \n",
            "391  0.842105  0.80  \n",
            "392  0.421053  0.35  \n",
            "393  0.631579  0.50  \n",
            "394  0.473684  0.45  \n",
            "\n",
            "[395 rows x 34 columns]\n"
          ]
        }
      ]
    },
    {
      "cell_type": "markdown",
      "source": [
        "KORELASI"
      ],
      "metadata": {
        "id": "2uEUzRI2Po42"
      }
    },
    {
      "cell_type": "markdown",
      "source": [
        "1. Korelasi \"Keluarga\" dengan label \"G1\",\"G2\",\"G3\""
      ],
      "metadata": {
        "id": "d2rHxKtlPt6-"
      }
    },
    {
      "cell_type": "code",
      "source": [
        "# Select the variables in the 'Keluarga' category\n",
        "Keluarga = ['famsize', 'Pstatus', 'Mjob', 'Fjob', 'guardian', 'famrel', 'famsup']\n",
        "\n",
        "# Calculate the correlation between the 'Keluarga' variables and G1\n",
        "Kcorr_matrix_g1 = df[Keluarga + ['G1']].corr()\n",
        "Kcorr_g1 = Kcorr_matrix_g1['G1']\n",
        "print(Kcorr_g1)\n",
        "print(\"Mean of correlation coefficients with G1: \", np.mean(Kcorr_g1))\n",
        "\n",
        "# Calculate the correlation between the 'Keluarga' variables and G2\n",
        "Kcorr_matrix_g2 = df[Keluarga + ['G2']].corr()\n",
        "Kcorr_g2 = Kcorr_matrix_g2['G2']\n",
        "print(Kcorr_g2)\n",
        "print(\"Mean of correlation coefficients with G2: \", np.mean(Kcorr_g2))\n",
        "\n",
        "# Calculate the correlation between the 'Keluarga' variables and G3\n",
        "Kcorr_matrix_g3 = df[Keluarga + ['G3']].corr()\n",
        "Kcorr_g3 = Kcorr_matrix_g3['G3']\n",
        "print(Kcorr_g3)\n",
        "print(\"Mean of correlation coefficients with G3: \", np.mean(Kcorr_g3))\n",
        "\n"
      ],
      "metadata": {
        "colab": {
          "base_uri": "https://localhost:8080/"
        },
        "id": "E2sFTMwlTNvd",
        "outputId": "cd3011e7-ccee-494b-973b-f6af5a4be6ed"
      },
      "execution_count": null,
      "outputs": [
        {
          "output_type": "stream",
          "name": "stdout",
          "text": [
            "famsize    -0.071445\n",
            "Pstatus     0.016868\n",
            "Mjob       -0.187996\n",
            "Fjob       -0.152132\n",
            "guardian   -0.004788\n",
            "famrel      0.022168\n",
            "famsup     -0.084569\n",
            "G1          1.000000\n",
            "Name: G1, dtype: float64\n",
            "Mean of correlation coefficients with G1:  0.06726334518336713\n",
            "famsize    -0.081223\n",
            "Pstatus     0.041382\n",
            "Mjob       -0.155340\n",
            "Fjob       -0.115121\n",
            "guardian   -0.021254\n",
            "famrel     -0.018281\n",
            "famsup     -0.059166\n",
            "G2          1.000000\n",
            "Name: G2, dtype: float64\n",
            "Mean of correlation coefficients with G2:  0.07387473200627376\n",
            "famsize    -0.081407\n",
            "Pstatus     0.058009\n",
            "Mjob       -0.145827\n",
            "Fjob       -0.091128\n",
            "guardian   -0.054193\n",
            "famrel      0.051363\n",
            "famsup     -0.039157\n",
            "G3          1.000000\n",
            "Name: G3, dtype: float64\n",
            "Mean of correlation coefficients with G3:  0.08720752315524358\n"
          ]
        }
      ]
    },
    {
      "cell_type": "code",
      "source": [
        "# Calculate the mean of the correlations\n",
        "Kmean_corr = (np.mean(np.mean(Kcorr_g1)) + (np.mean(Kcorr_g2)) + (np.mean(Kcorr_g3)))\n",
        "\n",
        "# Display the mean of the correlations\n",
        "print(Kmean_corr)"
      ],
      "metadata": {
        "colab": {
          "base_uri": "https://localhost:8080/"
        },
        "id": "Gk0RxYYoL3rx",
        "outputId": "7ca0e6fd-fbf4-4c3c-9151-5db578fda695"
      },
      "execution_count": null,
      "outputs": [
        {
          "output_type": "stream",
          "name": "stdout",
          "text": [
            "0.22834560034488446\n"
          ]
        }
      ]
    },
    {
      "cell_type": "markdown",
      "source": [
        "2. Korelasi \"Finansial\" dengan label \"G1\",\"G2\",\"G3\""
      ],
      "metadata": {
        "id": "B2niRPr0P4dl"
      }
    },
    {
      "cell_type": "code",
      "source": [
        "# Select the variables in the 'Finansial' category\n",
        "Finansial = ['Mjob', 'Fjob', 'paid', 'schoolsup']\n",
        "\n",
        "# Calculate the correlation between the 'Keluarga' variables and G1\n",
        "Fcorr_matrix_g1 = df[Finansial + ['G1']].corr()\n",
        "Fcorr_g1 = Fcorr_matrix_g1['G1']\n",
        "print(Fcorr_g1)\n",
        "print(\"Mean of correlation coefficients with G1: \", np.mean(Fcorr_g1))\n",
        "\n",
        "# Calculate the correlation between the 'Keluarga' variables and G2\n",
        "Fcorr_matrix_g2 = df[Finansial+ ['G2']].corr()\n",
        "Fcorr_g2 = Fcorr_matrix_g2['G2']\n",
        "print(Fcorr_g2)\n",
        "print(\"Mean of correlation coefficients with G2: \", np.mean(Fcorr_g2))\n",
        "\n",
        "# Calculate the correlation between the 'Keluarga' variables and G3\n",
        "Fcorr_matrix_g3 = df[Finansial + ['G3']].corr()\n",
        "Fcorr_g3 = Fcorr_matrix_g3['G3']\n",
        "print(Fcorr_g3)\n",
        "print(\"Mean of correlation coefficients with G3: \", np.mean(Fcorr_g3))\n",
        "\n"
      ],
      "metadata": {
        "colab": {
          "base_uri": "https://localhost:8080/"
        },
        "id": "ZOrD019LT3Zt",
        "outputId": "37a9d9c3-0a12-4abe-efc5-bf8d5fddab06"
      },
      "execution_count": null,
      "outputs": [
        {
          "output_type": "stream",
          "name": "stdout",
          "text": [
            "Mjob        -0.187996\n",
            "Fjob        -0.152132\n",
            "paid         0.039079\n",
            "schoolsup   -0.212607\n",
            "G1           1.000000\n",
            "Name: G1, dtype: float64\n",
            "Mean of correlation coefficients with G1:  0.0972689869895674\n",
            "Mjob        -0.155340\n",
            "Fjob        -0.115121\n",
            "paid         0.105198\n",
            "schoolsup   -0.117385\n",
            "G2           1.000000\n",
            "Name: G2, dtype: float64\n",
            "Mean of correlation coefficients with G2:  0.14347052724679293\n",
            "Mjob        -0.145827\n",
            "Fjob        -0.091128\n",
            "paid         0.101996\n",
            "schoolsup   -0.082788\n",
            "G3           1.000000\n",
            "Name: G3, dtype: float64\n",
            "Mean of correlation coefficients with G3:  0.15645059680983708\n"
          ]
        }
      ]
    },
    {
      "cell_type": "code",
      "source": [
        "# Calculate the mean of the correlations\n",
        "Fmean_corr = (np.mean(np.mean(Fcorr_g1)) + (np.mean(Fcorr_g2)) + (np.mean(Fcorr_g3)))\n",
        "\n",
        "# Display the mean of the correlations\n",
        "print(Fmean_corr)"
      ],
      "metadata": {
        "colab": {
          "base_uri": "https://localhost:8080/"
        },
        "id": "1umPz2xVU9dG",
        "outputId": "12b7d395-0964-4cc6-8ab7-511836de4583"
      },
      "execution_count": null,
      "outputs": [
        {
          "output_type": "stream",
          "name": "stdout",
          "text": [
            "0.3971901110461974\n"
          ]
        }
      ]
    },
    {
      "cell_type": "markdown",
      "source": [
        "3. Korelasi \"Health\" dengan label \"G1\",\"G2\",\"G3\""
      ],
      "metadata": {
        "id": "SmeLNKY1XTRb"
      }
    },
    {
      "cell_type": "markdown",
      "source": [],
      "metadata": {
        "id": "Qwytb4vWdrwX"
      }
    },
    {
      "cell_type": "code",
      "source": [
        "# Select the variables in the 'Health' category\n",
        "Health = ['sex', 'age', 'Walc', 'Dalc']\n",
        "\n",
        "# Calculate the correlation between the 'Health' variables and G1\n",
        "Hcorr_matrix_g1 = df[Health + ['G1']].corr()\n",
        "Hcorr_g1 = Hcorr_matrix_g1['G1']\n",
        "print(Hcorr_g1)\n",
        "print(\"Mean of correlation coefficients with G1: \", np.mean(Hcorr_g1))\n",
        "\n",
        "# Calculate the correlation between the 'Health' variables and G2\n",
        "Hcorr_matrix_g2 = df[Health+ ['G2']].corr()\n",
        "Hcorr_g2 = Hcorr_matrix_g2['G2']\n",
        "print(Hcorr_g2)\n",
        "print(\"Mean of correlation coefficients with G2: \", np.mean(Hcorr_g2))\n",
        "\n",
        "# Calculate the correlation between the 'Health' variables and G3\n",
        "Hcorr_matrix_g3 = df[Health + ['G3']].corr()\n",
        "Hcorr_g3 = Hcorr_matrix_g3['G3']\n",
        "print(Hcorr_g3)\n",
        "print(\"Mean of correlation coefficients with G3: \", np.mean(Hcorr_g3))\n",
        "\n"
      ],
      "metadata": {
        "colab": {
          "base_uri": "https://localhost:8080/"
        },
        "id": "GupR1IRTZZ7L",
        "outputId": "de6f147f-ea65-42b1-ca06-4668d57fdf10"
      },
      "execution_count": null,
      "outputs": [
        {
          "output_type": "stream",
          "name": "stdout",
          "text": [
            "sex     0.091839\n",
            "age    -0.064081\n",
            "Walc   -0.126179\n",
            "Dalc   -0.094159\n",
            "G1      1.000000\n",
            "Name: G1, dtype: float64\n",
            "Mean of correlation coefficients with G1:  0.16148393238348535\n",
            "sex     0.091099\n",
            "age    -0.143474\n",
            "Walc   -0.084927\n",
            "Dalc   -0.064120\n",
            "G2      1.000000\n",
            "Name: G2, dtype: float64\n",
            "Mean of correlation coefficients with G2:  0.15971557079235338\n",
            "sex     0.103456\n",
            "age    -0.161579\n",
            "Walc   -0.051939\n",
            "Dalc   -0.054660\n",
            "G3      1.000000\n",
            "Name: G3, dtype: float64\n",
            "Mean of correlation coefficients with G3:  0.16705536900381412\n"
          ]
        }
      ]
    },
    {
      "cell_type": "code",
      "source": [
        "# Calculate the mean of the correlations\n",
        "Hmean_corr = (np.mean(np.mean(Hcorr_g1)) + (np.mean(Hcorr_g2)) + (np.mean(Hcorr_g3)))\n",
        "\n",
        "# Display the mean of the correlations\n",
        "print(Hmean_corr)"
      ],
      "metadata": {
        "colab": {
          "base_uri": "https://localhost:8080/"
        },
        "id": "Me_luOHLdN3L",
        "outputId": "cc920236-0534-4caa-d9d0-016372b7e565"
      },
      "execution_count": null,
      "outputs": [
        {
          "output_type": "stream",
          "name": "stdout",
          "text": [
            "0.48825487217965285\n"
          ]
        }
      ]
    },
    {
      "cell_type": "markdown",
      "source": [
        "4. Korelasi \"Social\" dengan label \"G1\",\"G2\",\"G3\""
      ],
      "metadata": {
        "id": "H9tccJvod2CX"
      }
    },
    {
      "cell_type": "code",
      "source": [
        "# Select the variables in the 'Health' category\n",
        "Social = ['sex', 'reason', 'activities', 'failures', 'romantic', 'internet','freetime','goout','absences']\n",
        "\n",
        "# Calculate the correlation between the 'Health' variables and G1\n",
        "Scorr_matrix_g1 = df[Social + ['G1']].corr()\n",
        "Scorr_g1 = Scorr_matrix_g1['G1']\n",
        "print(Scorr_g1)\n",
        "print(\"Mean of correlation coefficients with G1: \", np.mean(Scorr_g1))\n",
        "\n",
        "# Calculate the correlation between the 'Health' variables and G2\n",
        "Scorr_matrix_g2 = df[Social+ ['G2']].corr()\n",
        "Scorr_g2 = Scorr_matrix_g2['G2']\n",
        "print(Scorr_g2)\n",
        "print(\"Mean of correlation coefficients with G2: \", np.mean(Scorr_g2))\n",
        "\n",
        "# Calculate the correlation between the 'Health' variables and G3\n",
        "Scorr_matrix_g3 = df[Social + ['G3']].corr()\n",
        "Scorr_g3 = Scorr_matrix_g3['G3']\n",
        "print(Scorr_g3)\n",
        "print(\"Mean of correlation coefficients with G3: \", np.mean(Scorr_g3))\n",
        "\n"
      ],
      "metadata": {
        "colab": {
          "base_uri": "https://localhost:8080/"
        },
        "id": "FrfA6WZZd7BZ",
        "outputId": "de912165-cd5f-4805-8647-51dccc30687a"
      },
      "execution_count": null,
      "outputs": [
        {
          "output_type": "stream",
          "name": "stdout",
          "text": [
            "sex           0.091839\n",
            "reason       -0.031753\n",
            "activities    0.057010\n",
            "failures     -0.354718\n",
            "romantic     -0.037188\n",
            "internet      0.071619\n",
            "freetime      0.012613\n",
            "goout        -0.149104\n",
            "absences     -0.031003\n",
            "G1            1.000000\n",
            "Name: G1, dtype: float64\n",
            "Mean of correlation coefficients with G1:  0.0629315275494237\n",
            "sex           0.091099\n",
            "reason       -0.031470\n",
            "activities    0.050552\n",
            "failures     -0.355896\n",
            "romantic     -0.111774\n",
            "internet      0.119439\n",
            "freetime     -0.013777\n",
            "goout        -0.162250\n",
            "absences     -0.031777\n",
            "G2            1.000000\n",
            "Name: G2, dtype: float64\n",
            "Mean of correlation coefficients with G2:  0.055414577858338324\n",
            "sex           0.103456\n",
            "reason       -0.008502\n",
            "activities    0.016100\n",
            "failures     -0.360415\n",
            "romantic     -0.129970\n",
            "internet      0.098483\n",
            "freetime      0.011307\n",
            "goout        -0.132791\n",
            "absences      0.034247\n",
            "G3            1.000000\n",
            "Name: G3, dtype: float64\n",
            "Mean of correlation coefficients with G3:  0.06319153887006197\n"
          ]
        }
      ]
    },
    {
      "cell_type": "code",
      "source": [
        "# Calculate the mean of the correlations\n",
        "Smean_corr = (np.mean(np.mean(Scorr_g1)) + (np.mean(Scorr_g2)) + (np.mean(Scorr_g3)))\n",
        "\n",
        "# Display the mean of the correlations\n",
        "print(Smean_corr)"
      ],
      "metadata": {
        "colab": {
          "base_uri": "https://localhost:8080/"
        },
        "id": "9SRHVk0QfVgB",
        "outputId": "44d6e111-9263-4ce3-97f8-0fd6cf9c410d"
      },
      "execution_count": null,
      "outputs": [
        {
          "output_type": "stream",
          "name": "stdout",
          "text": [
            "0.18153764427782398\n"
          ]
        }
      ]
    },
    {
      "cell_type": "markdown",
      "source": [
        "5. Korelasi \"Waktu\" dengan label \"G1\",\"G2\",\"G3\""
      ],
      "metadata": {
        "id": "uW7orVHLfroK"
      }
    },
    {
      "cell_type": "code",
      "source": [
        "# Select the variables in the 'Health' category\n",
        "Waktu = ['address', 'traveltime', 'studytime', 'activities', 'freetime', 'internet','goout']\n",
        "\n",
        "# Calculate the correlation between the 'Health' variables and G1\n",
        "Wcorr_matrix_g1 = df[Waktu + ['G1']].corr()\n",
        "Wcorr_g1 = Wcorr_matrix_g1['G1']\n",
        "print(Wcorr_g1)\n",
        "print(\"Mean of correlation coefficients with G1: \", np.mean(Wcorr_g1))\n",
        "\n",
        "# Calculate the correlation between the 'Health' variables and G2\n",
        "Wcorr_matrix_g2 = df[Waktu+ ['G2']].corr()\n",
        "Wcorr_g2 = Wcorr_matrix_g2['G2']\n",
        "print(Wcorr_g2)\n",
        "print(\"Mean of correlation coefficients with G2: \", np.mean(Wcorr_g2))\n",
        "\n",
        "# Calculate the correlation between the 'Health' variables and G3\n",
        "Wcorr_matrix_g3 = df[Waktu + ['G3']].corr()\n",
        "Wcorr_g3 = Wcorr_matrix_g3['G3']\n",
        "print(Wcorr_g3)\n",
        "print(\"Mean of correlation coefficients with G3: \", np.mean(Wcorr_g3))\n",
        "\n"
      ],
      "metadata": {
        "colab": {
          "base_uri": "https://localhost:8080/"
        },
        "id": "k1yNF04hf8BE",
        "outputId": "89a407e8-fbf5-4ff3-8119-be44a026c25b"
      },
      "execution_count": null,
      "outputs": [
        {
          "output_type": "stream",
          "name": "stdout",
          "text": [
            "address      -0.069704\n",
            "traveltime   -0.093040\n",
            "studytime     0.160612\n",
            "activities    0.057010\n",
            "freetime      0.012613\n",
            "internet      0.071619\n",
            "goout        -0.149104\n",
            "G1            1.000000\n",
            "Name: G1, dtype: float64\n",
            "Mean of correlation coefficients with G1:  0.12375064654522684\n",
            "address      -0.126037\n",
            "traveltime   -0.153198\n",
            "studytime     0.135880\n",
            "activities    0.050552\n",
            "freetime     -0.013777\n",
            "internet      0.119439\n",
            "goout        -0.162250\n",
            "G2            1.000000\n",
            "Name: G2, dtype: float64\n",
            "Mean of correlation coefficients with G2:  0.10632599419237374\n",
            "address      -0.105756\n",
            "traveltime   -0.117142\n",
            "studytime     0.097820\n",
            "activities    0.016100\n",
            "freetime      0.011307\n",
            "internet      0.098483\n",
            "goout        -0.132791\n",
            "G3            1.000000\n",
            "Name: G3, dtype: float64\n",
            "Mean of correlation coefficients with G3:  0.10850255153346675\n"
          ]
        }
      ]
    },
    {
      "cell_type": "code",
      "source": [
        "# Calculate the mean of the correlations\n",
        "Wmean_corr = (np.mean(np.mean(Wcorr_g1)) + (np.mean(Wcorr_g2)) + (np.mean(Wcorr_g3)))\n",
        "\n",
        "# Display the mean of the correlations\n",
        "print(Wmean_corr)"
      ],
      "metadata": {
        "colab": {
          "base_uri": "https://localhost:8080/"
        },
        "id": "-xU4ghMzgrgI",
        "outputId": "d95d12c0-37e1-4d90-9b3d-5e4b924a4d3d"
      },
      "execution_count": null,
      "outputs": [
        {
          "output_type": "stream",
          "name": "stdout",
          "text": [
            "0.33857919227106736\n"
          ]
        }
      ]
    },
    {
      "cell_type": "markdown",
      "source": [
        "Membandingkan semua korelasi tiap kelompok"
      ],
      "metadata": {
        "id": "NkqK12Y4hFDx"
      }
    },
    {
      "cell_type": "code",
      "source": [
        "print(Kmean_corr)\n",
        "print(Fmean_corr)\n",
        "print(Hmean_corr)\n",
        "print(Smean_corr)\n",
        "print(Wmean_corr)"
      ],
      "metadata": {
        "colab": {
          "base_uri": "https://localhost:8080/"
        },
        "id": "TYUG8tMmhJLg",
        "outputId": "5eac5efd-18ed-4a7c-d97f-62bf45d1423e"
      },
      "execution_count": null,
      "outputs": [
        {
          "output_type": "stream",
          "name": "stdout",
          "text": [
            "0.22834560034488446\n",
            "0.3971901110461974\n",
            "0.48825487217965285\n",
            "0.18153764427782398\n",
            "0.33857919227106736\n"
          ]
        }
      ]
    },
    {
      "cell_type": "code",
      "source": [
        "import matplotlib.pyplot as plt\n",
        "\n",
        "categories = ['Keluarga', 'Finansial', 'Health', 'Social', 'Waktu']\n",
        "means = [0.22834560034488446, 0.3971901110461974, 0.48825487217965285, 0.18153764427782398, 0.33857919227106736]\n",
        "\n",
        "plt.bar(categories, means, color='blue')\n",
        "plt.xlabel('Variable')\n",
        "plt.ylabel('Mean Correlation Coefficient')\n",
        "plt.title('Comparison of Mean Correlation Coefficients')\n",
        "plt.xticks(rotation=45)\n",
        "plt.show()"
      ],
      "metadata": {
        "colab": {
          "base_uri": "https://localhost:8080/",
          "height": 511
        },
        "id": "M-RvyI6ahhyR",
        "outputId": "00db9e9d-e3d0-41cb-e2a3-cf7e0e5ebdc0"
      },
      "execution_count": null,
      "outputs": [
        {
          "output_type": "display_data",
          "data": {
            "text/plain": [
              "<Figure size 640x480 with 1 Axes>"
            ],
            "image/png": "[encoded data removed]"
          },
          "metadata": {}
        }
      ]
    },
    {
      "cell_type": "code",
      "source": [
        "import pandas as pd\n",
        "\n",
        "data = {'Variable': categories, 'Mean Correlation Coefficient': means}\n",
        "df = pd.DataFrame(data)\n",
        "\n",
        "df.to_csv('Comparison of Mean Correlation Coefficients.csv', index=False)"
      ],
      "metadata": {
        "id": "Mp6zu9-9d4fZ"
      },
      "execution_count": null,
      "outputs": []
    },
    {
      "cell_type": "markdown",
      "source": [
        "KNN"
      ],
      "metadata": {
        "id": "i4Z7O4QVNUcR"
      }
    },
    {
      "cell_type": "markdown",
      "source": [
        "Import Library"
      ],
      "metadata": {
        "id": "uEaqY6InW5_D"
      }
    },
    {
      "cell_type": "code",
      "source": [
        "import numpy as np\n",
        "import pandas as pd\n",
        "import seaborn as sns\n",
        "import matplotlib.pyplot as plt\n",
        "from sklearn.model_selection import train_test_split, cross_val_score\n",
        "from sklearn.preprocessing import StandardScaler, LabelEncoder\n",
        "from sklearn.neighbors import KNeighborsRegressor\n",
        "from sklearn.metrics import accuracy_score, precision_score, recall_score, mean_squared_error"
      ],
      "metadata": {
        "id": "vGWnNj0LW8EN"
      },
      "execution_count": null,
      "outputs": []
    },
    {
      "cell_type": "markdown",
      "source": [
        "Mengatur data frame"
      ],
      "metadata": {
        "id": "XGv76KcqXAmq"
      }
    },
    {
      "cell_type": "markdown",
      "source": [
        "Langkah selanjutnya adalah mendefinisikan fitur (X) dan target (y) dari dataset."
      ],
      "metadata": {
        "id": "Ubnie_ZVXFJl"
      }
    },
    {
      "cell_type": "code",
      "source": [
        "X = df.drop('G3', axis=1)\n",
        "y = df['G3']\n",
        "print(df.info())  # show the data types of each column\n",
        "print(df.describe())  # show summary statistics of the data"
      ],
      "metadata": {
        "colab": {
          "base_uri": "https://localhost:8080/"
        },
        "id": "g3x9ZiigXHq1",
        "outputId": "b0118bbb-9494-4c74-c048-6f5cb231bf6a"
      },
      "execution_count": null,
      "outputs": [
        {
          "output_type": "stream",
          "name": "stdout",
          "text": [
            "<class 'pandas.core.frame.DataFrame'>\n",
            "RangeIndex: 395 entries, 0 to 394\n",
            "Data columns (total 34 columns):\n",
            " #   Column      Non-Null Count  Dtype  \n",
            "---  ------      --------------  -----  \n",
            " 0   Unnamed: 0  395 non-null    int64  \n",
            " 1   school      395 non-null    float64\n",
            " 2   sex         395 non-null    float64\n",
            " 3   age         395 non-null    float64\n",
            " 4   address     395 non-null    float64\n",
            " 5   famsize     395 non-null    float64\n",
            " 6   Pstatus     395 non-null    float64\n",
            " 7   Medu        395 non-null    float64\n",
            " 8   Fedu        395 non-null    float64\n",
            " 9   Mjob        395 non-null    float64\n",
            " 10  Fjob        395 non-null    float64\n",
            " 11  reason      395 non-null    float64\n",
            " 12  guardian    395 non-null    float64\n",
            " 13  traveltime  395 non-null    float64\n",
            " 14  studytime   395 non-null    float64\n",
            " 15  failures    395 non-null    float64\n",
            " 16  schoolsup   395 non-null    float64\n",
            " 17  famsup      395 non-null    float64\n",
            " 18  paid        395 non-null    float64\n",
            " 19  activities  395 non-null    float64\n",
            " 20  nursery     395 non-null    object \n",
            " 21  higher      395 non-null    float64\n",
            " 22  internet    395 non-null    float64\n",
            " 23  romantic    395 non-null    float64\n",
            " 24  famrel      395 non-null    float64\n",
            " 25  freetime    395 non-null    float64\n",
            " 26  goout       395 non-null    float64\n",
            " 27  Dalc        395 non-null    float64\n",
            " 28  Walc        395 non-null    float64\n",
            " 29  health      395 non-null    float64\n",
            " 30  absences    395 non-null    float64\n",
            " 31  G1          395 non-null    float64\n",
            " 32  G2          395 non-null    float64\n",
            " 33  G3          395 non-null    float64\n",
            "dtypes: float64(32), int64(1), object(1)\n",
            "memory usage: 105.0+ KB\n",
            "None\n",
            "       Unnamed: 0      school         sex         age     address     famsize  \\\n",
            "count  395.000000  395.000000  395.000000  395.000000  395.000000  395.000000   \n",
            "mean   197.000000    0.116456    0.473418    0.242315    0.222785    0.711392   \n",
            "std    114.170924    0.321177    0.499926    0.182292    0.416643    0.453690   \n",
            "min      0.000000    0.000000    0.000000    0.000000    0.000000    0.000000   \n",
            "25%     98.500000    0.000000    0.000000    0.142857    0.000000    0.000000   \n",
            "50%    197.000000    0.000000    0.000000    0.285714    0.000000    1.000000   \n",
            "75%    295.500000    0.000000    1.000000    0.428571    0.000000    1.000000   \n",
            "max    394.000000    1.000000    1.000000    1.000000    1.000000    1.000000   \n",
            "\n",
            "          Pstatus        Medu       Fedu        Mjob  ...      famrel  \\\n",
            "count  395.000000  395.000000  395.00000  395.000000  ...  395.000000   \n",
            "mean     0.103797    0.687342    0.63038    0.620886  ...    0.736076   \n",
            "std      0.305384    0.273684    0.27205    0.355487  ...    0.224165   \n",
            "min      0.000000    0.000000    0.00000    0.000000  ...    0.000000   \n",
            "25%      0.000000    0.500000    0.50000    0.500000  ...    0.750000   \n",
            "50%      0.000000    0.750000    0.50000    0.750000  ...    0.750000   \n",
            "75%      0.000000    1.000000    0.75000    1.000000  ...    1.000000   \n",
            "max      1.000000    1.000000    1.00000    1.000000  ...    1.000000   \n",
            "\n",
            "         freetime       goout        Dalc        Walc      health    absences  \\\n",
            "count  395.000000  395.000000  395.000000  395.000000  395.000000  395.000000   \n",
            "mean     0.558861    0.527215    0.120253    0.322785    0.638608    0.076118   \n",
            "std      0.249716    0.278320    0.222685    0.321974    0.347576    0.106708   \n",
            "min      0.000000    0.000000    0.000000    0.000000    0.000000    0.000000   \n",
            "25%      0.500000    0.250000    0.000000    0.000000    0.500000    0.000000   \n",
            "50%      0.500000    0.500000    0.000000    0.250000    0.750000    0.053333   \n",
            "75%      0.750000    0.750000    0.250000    0.500000    1.000000    0.106667   \n",
            "max      1.000000    1.000000    1.000000    1.000000    1.000000    1.000000   \n",
            "\n",
            "               G1          G2          G3  \n",
            "count  395.000000  395.000000  395.000000  \n",
            "mean     0.494304    0.563891    0.520759  \n",
            "std      0.207450    0.197974    0.229072  \n",
            "min      0.000000    0.000000    0.000000  \n",
            "25%      0.312500    0.473684    0.400000  \n",
            "50%      0.500000    0.578947    0.550000  \n",
            "75%      0.625000    0.684211    0.700000  \n",
            "max      1.000000    1.000000    1.000000  \n",
            "\n",
            "[8 rows x 33 columns]\n"
          ]
        }
      ]
    },
    {
      "cell_type": "markdown",
      "source": [
        "Pembagian data training dan testing"
      ],
      "metadata": {
        "id": "z2zfVo-wY2_S"
      }
    },
    {
      "cell_type": "code",
      "source": [
        "X_train, X_test, y_train, y_test = train_test_split(X, y, test_size=0.2, random_state=42)"
      ],
      "metadata": {
        "id": "xgaiQqUwY6lU"
      },
      "execution_count": null,
      "outputs": []
    },
    {
      "cell_type": "markdown",
      "source": [
        "Skala Fitur: Fitur-fitur dinormalisasi menggunakan StandardScaler untuk menghasilkan distribusi yang memiliki rata-rata 0 dan varians 1."
      ],
      "metadata": {
        "id": "vnl6KTmXZBNc"
      }
    },
    {
      "cell_type": "code",
      "source": [
        "# Scale the features using StandardScaler\n",
        "scaler = StandardScaler()\n",
        "X_train = scaler.fit_transform(X_train)\n",
        "X_test = scaler.transform(X_test)\n",
        "print(X_train)\n",
        "print(X_test)"
      ],
      "metadata": {
        "colab": {
          "base_uri": "https://localhost:8080/"
        },
        "id": "D2Otr4FTZB4L",
        "outputId": "0abbea6c-4f41-45c8-f1c0-202aea9469c7"
      },
      "execution_count": null,
      "outputs": [
        {
          "output_type": "stream",
          "name": "stdout",
          "text": [
            "[[-0.18905039 -0.34722813  1.07906606 ... -0.53741034  0.33205033\n",
            "   0.62616324]\n",
            " [-0.07141649 -0.34722813  1.07906606 ... -0.83744862  0.64340909\n",
            "   0.89283114]\n",
            " [-0.26144048 -0.34722813 -0.92672732 ... -0.83744862 -0.91338472\n",
            "  -0.97384417]\n",
            " ...\n",
            " [ 0.61628938 -0.34722813 -0.92672732 ...  1.41283849 -0.60202596\n",
            "  -0.44050837]\n",
            " [ 1.32209277 -0.34722813 -0.92672732 ... -0.83744862  0.64340909\n",
            "   1.15949904]\n",
            " [-0.90390255 -0.34722813  1.07906606 ... -0.23737206 -0.2906672\n",
            "   0.62616324]]\n",
            "[[-1.12107282 -0.34722813  1.07906606 ... -0.53741034 -0.91338472\n",
            "  -0.70717627]\n",
            " [ 1.53021429  2.87995098  1.07906606 ... -0.3873912   0.95476785\n",
            "   0.35949533]\n",
            " [ 0.41721663 -0.34722813  1.07906606 ...  0.36270451 -2.47017853\n",
            "  -1.50717997]\n",
            " ...\n",
            " [-0.79531741 -0.34722813  1.07906606 ...  0.36270451 -0.60202596\n",
            "  -0.44050837]\n",
            " [-1.79972993 -0.34722813 -0.92672732 ... -0.53741034  1.26612661\n",
            "   0.89283114]\n",
            " [-1.66399851 -0.34722813  1.07906606 ...  1.56285764 -1.53610225\n",
            "  -1.50717997]]\n"
          ]
        }
      ]
    },
    {
      "cell_type": "markdown",
      "source": [
        "Penentuan Jangkauan K: Kita menentukan jangkauan nilai k yang akan digunakan dalam model KNN."
      ],
      "metadata": {
        "id": "L5cWL6jHZgi7"
      }
    },
    {
      "cell_type": "code",
      "source": [
        "k_values = list(range(1, 31))\n",
        "print(k_values)\n",
        "# Initialize an empty list to store accuracy scores\n",
        "scores = []"
      ],
      "metadata": {
        "colab": {
          "base_uri": "https://localhost:8080/"
        },
        "id": "HUu-jrU8ZiDz",
        "outputId": "c6648266-5733-49d0-9ebf-52da2afaa8fc"
      },
      "execution_count": null,
      "outputs": [
        {
          "output_type": "stream",
          "name": "stdout",
          "text": [
            "[1, 2, 3, 4, 5, 6, 7, 8, 9, 10, 11, 12, 13, 14, 15, 16, 17, 18, 19, 20, 21, 22, 23, 24, 25, 26, 27, 28, 29, 30]\n"
          ]
        }
      ]
    },
    {
      "cell_type": "markdown",
      "source": [
        "**Validasi Silang**: Proses cross-validation digunakan untuk mengevaluasi kinerja model KNN dengan berbagai nilai k."
      ],
      "metadata": {
        "id": "v2dplQZEZukr"
      }
    },
    {
      "cell_type": "code",
      "source": [
        "\n",
        "# Perform cross-validation for each k value\n",
        "for k in k_values:\n",
        "    knn = KNeighborsRegressor(n_neighbors=k)\n",
        "    score = cross_val_score(knn, X, y, cv=5, scoring='neg_mean_squared_error').mean()\n",
        "    scores.append(score)"
      ],
      "metadata": {
        "id": "-gRNR-vhZw0S"
      },
      "execution_count": null,
      "outputs": []
    },
    {
      "cell_type": "markdown",
      "source": [
        "Visualisasi Skor: Skor negatif rata-rata kesalahan kuadrat ditampilkan dalam plot untuk setiap nilai k.\n"
      ],
      "metadata": {
        "id": "vQ_Hxr7UZ6j9"
      }
    },
    {
      "cell_type": "code",
      "source": [
        "# Plot the accuracy scores for each k value\n",
        "sns.lineplot(x=k_values, y=scores, marker='o')\n",
        "plt.xlabel(\"K Values\")\n",
        "plt.ylabel(\"Negative Mean Squared Error\")\n",
        "plt.show()\n"
      ],
      "metadata": {
        "colab": {
          "base_uri": "https://localhost:8080/",
          "height": 449
        },
        "id": "xxjsMCH5Z7TK",
        "outputId": "bdedd8be-5ed0-4754-c440-decc368927ee"
      },
      "execution_count": null,
      "outputs": [
        {
          "output_type": "display_data",
          "data": {
            "text/plain": [
              "<Figure size 640x480 with 1 Axes>"
            ],
            "image/png": "[encoded data removed]"
          },
          "metadata": {}
        }
      ]
    },
    {
      "cell_type": "markdown",
      "source": [
        "Pemilihan K Terbaik: Nilai k dengan skor negatif rata-rata kesalahan kuadrat terendah dipilih sebagai k terbaik."
      ],
      "metadata": {
        "id": "EbR_0kOvZ-_S"
      }
    },
    {
      "cell_type": "code",
      "source": [
        "# Find the best k value\n",
        "best_index = np.argmin(scores)\n",
        "best_k = k_values[best_index]\n",
        "print(f\"The best k value is {best_k} with a negative mean squared error of {scores[best_index]}\")"
      ],
      "metadata": {
        "colab": {
          "base_uri": "https://localhost:8080/"
        },
        "id": "Loru-BeDaCsp",
        "outputId": "a6895e91-2ed5-4bcc-8e70-28126ffd92d9"
      },
      "execution_count": null,
      "outputs": [
        {
          "output_type": "stream",
          "name": "stdout",
          "text": [
            "The best k value is 1 with a negative mean squared error of -0.10446835443037976\n"
          ]
        }
      ]
    },
    {
      "cell_type": "markdown",
      "source": [
        "Pelatihan Model: Model KNN dilatih menggunakan k terbaik pada set pelatihan."
      ],
      "metadata": {
        "id": "ht9o7hSJafO0"
      }
    },
    {
      "cell_type": "code",
      "source": [
        "# Train a KNeighborsRegressor model with the best k value\n",
        "knn = KNeighborsRegressor(n_neighbors=best_k)\n",
        "knn.fit(X_train, y_train)"
      ],
      "metadata": {
        "colab": {
          "base_uri": "https://localhost:8080/",
          "height": 74
        },
        "id": "QHnEPFbgaiXq",
        "outputId": "e10ade1f-ffb6-4615-ba6c-ac4ae0a5fb31"
      },
      "execution_count": null,
      "outputs": [
        {
          "output_type": "execute_result",
          "data": {
            "text/plain": [
              "KNeighborsRegressor(n_neighbors=1)"
            ],
            "text/html": [
              "<style>#sk-container-id-1 {color: black;background-color: white;}#sk-container-id-1 pre{padding: 0;}#sk-container-id-1 div.sk-toggleable {background-color: white;}#sk-container-id-1 label.sk-toggleable__label {cursor: pointer;display: block;width: 100%;margin-bottom: 0;padding: 0.3em;box-sizing: border-box;text-align: center;}#sk-container-id-1 label.sk-toggleable__label-arrow:before {content: \"▸\";float: left;margin-right: 0.25em;color: #696969;}#sk-container-id-1 label.sk-toggleable__label-arrow:hover:before {color: black;}#sk-container-id-1 div.sk-estimator:hover label.sk-toggleable__label-arrow:before {color: black;}#sk-container-id-1 div.sk-toggleable__content {max-height: 0;max-width: 0;overflow: hidden;text-align: left;background-color: #f0f8ff;}#sk-container-id-1 div.sk-toggleable__content pre {margin: 0.2em;color: black;border-radius: 0.25em;background-color: #f0f8ff;}#sk-container-id-1 input.sk-toggleable__control:checked~div.sk-toggleable__content {max-height: 200px;max-width: 100%;overflow: auto;}#sk-container-id-1 input.sk-toggleable__control:checked~label.sk-toggleable__label-arrow:before {content: \"▾\";}#sk-container-id-1 div.sk-estimator input.sk-toggleable__control:checked~label.sk-toggleable__label {background-color: #d4ebff;}#sk-container-id-1 div.sk-label input.sk-toggleable__control:checked~label.sk-toggleable__label {background-color: #d4ebff;}#sk-container-id-1 input.sk-hidden--visually {border: 0;clip: rect(1px 1px 1px 1px);clip: rect(1px, 1px, 1px, 1px);height: 1px;margin: -1px;overflow: hidden;padding: 0;position: absolute;width: 1px;}#sk-container-id-1 div.sk-estimator {font-family: monospace;background-color: #f0f8ff;border: 1px dotted black;border-radius: 0.25em;box-sizing: border-box;margin-bottom: 0.5em;}#sk-container-id-1 div.sk-estimator:hover {background-color: #d4ebff;}#sk-container-id-1 div.sk-parallel-item::after {content: \"\";width: 100%;border-bottom: 1px solid gray;flex-grow: 1;}#sk-container-id-1 div.sk-label:hover label.sk-toggleable__label {background-color: #d4ebff;}#sk-container-id-1 div.sk-serial::before {content: \"\";position: absolute;border-left: 1px solid gray;box-sizing: border-box;top: 0;bottom: 0;left: 50%;z-index: 0;}#sk-container-id-1 div.sk-serial {display: flex;flex-direction: column;align-items: center;background-color: white;padding-right: 0.2em;padding-left: 0.2em;position: relative;}#sk-container-id-1 div.sk-item {position: relative;z-index: 1;}#sk-container-id-1 div.sk-parallel {display: flex;align-items: stretch;justify-content: center;background-color: white;position: relative;}#sk-container-id-1 div.sk-item::before, #sk-container-id-1 div.sk-parallel-item::before {content: \"\";position: absolute;border-left: 1px solid gray;box-sizing: border-box;top: 0;bottom: 0;left: 50%;z-index: -1;}#sk-container-id-1 div.sk-parallel-item {display: flex;flex-direction: column;z-index: 1;position: relative;background-color: white;}#sk-container-id-1 div.sk-parallel-item:first-child::after {align-self: flex-end;width: 50%;}#sk-container-id-1 div.sk-parallel-item:last-child::after {align-self: flex-start;width: 50%;}#sk-container-id-1 div.sk-parallel-item:only-child::after {width: 0;}#sk-container-id-1 div.sk-dashed-wrapped {border: 1px dashed gray;margin: 0 0.4em 0.5em 0.4em;box-sizing: border-box;padding-bottom: 0.4em;background-color: white;}#sk-container-id-1 div.sk-label label {font-family: monospace;font-weight: bold;display: inline-block;line-height: 1.2em;}#sk-container-id-1 div.sk-label-container {text-align: center;}#sk-container-id-1 div.sk-container {/* jupyter's `normalize.less` sets `[hidden] { display: none; }` but bootstrap.min.css set `[hidden] { display: none !important; }` so we also need the `!important` here to be able to override the default hidden behavior on the sphinx rendered scikit-learn.org. See: https://github.com/scikit-learn/scikit-learn/issues/21755 */display: inline-block !important;position: relative;}#sk-container-id-1 div.sk-text-repr-fallback {display: none;}</style><div id=\"sk-container-id-1\" class=\"sk-top-container\"><div class=\"sk-text-repr-fallback\"><pre>KNeighborsRegressor(n_neighbors=1)</pre><b>In a Jupyter environment, please rerun this cell to show the HTML representation or trust the notebook. <br />On GitHub, the HTML representation is unable to render, please try loading this page with nbviewer.org.</b></div><div class=\"sk-container\" hidden><div class=\"sk-item\"><div class=\"sk-estimator sk-toggleable\"><input class=\"sk-toggleable__control sk-hidden--visually\" id=\"sk-estimator-id-1\" type=\"checkbox\" checked><label for=\"sk-estimator-id-1\" class=\"sk-toggleable__label sk-toggleable__label-arrow\">KNeighborsRegressor</label><div class=\"sk-toggleable__content\"><pre>KNeighborsRegressor(n_neighbors=1)</pre></div></div></div></div></div>"
            ]
          },
          "metadata": {},
          "execution_count": 54
        }
      ]
    },
    {
      "cell_type": "markdown",
      "source": [
        "Evaluasi Model: Kinerja model dievaluasi pada set pengujian menggunakan mean_squared_error."
      ],
      "metadata": {
        "id": "EBAkQLwqaq-C"
      }
    },
    {
      "cell_type": "code",
      "source": [
        "# Evaluate the model on the test set\n",
        "y_pred = knn.predict(X_test)\n",
        "mse = mean_squared_error(y_test, y_pred)\n",
        "print(f\"Test set negative mean squared error: {mse}\")"
      ],
      "metadata": {
        "colab": {
          "base_uri": "https://localhost:8080/"
        },
        "id": "Lv-YkHdCat9q",
        "outputId": "acb8d7a3-1469-4ebe-a918-34934439dfde"
      },
      "execution_count": null,
      "outputs": [
        {
          "output_type": "stream",
          "name": "stdout",
          "text": [
            "Test set negative mean squared error: 0.04503164556962026\n"
          ]
        }
      ]
    }
  ]
}